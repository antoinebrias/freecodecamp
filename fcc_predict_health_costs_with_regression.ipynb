{
  "cells": [
    {
      "cell_type": "code",
      "execution_count": null,
      "metadata": {
        "id": "1rRo8oNqZ-Rj"
      },
      "outputs": [],
      "source": [
        "# Import libraries. You may or may not use all of these.\n",
        "!pip install -q git+https://github.com/tensorflow/docs\n",
        "import matplotlib.pyplot as plt\n",
        "import numpy as np\n",
        "import pandas as pd\n",
        "\n",
        "try:\n",
        "  # %tensorflow_version only exists in Colab.\n",
        "  %tensorflow_version 2.x\n",
        "except Exception:\n",
        "  pass\n",
        "import tensorflow as tf\n",
        "\n",
        "from tensorflow import keras\n",
        "from tensorflow.keras import layers\n",
        "\n",
        "import tensorflow_docs as tfdocs\n",
        "import tensorflow_docs.plots\n",
        "import tensorflow_docs.modeling\n",
        "\n",
        "from sklearn.linear_model import LinearRegression"
      ]
    },
    {
      "cell_type": "code",
      "execution_count": null,
      "metadata": {
        "id": "CiX2FI4gZtTt"
      },
      "outputs": [],
      "source": [
        "# Import data\n",
        "!wget https://cdn.freecodecamp.org/project-data/health-costs/insurance.csv\n",
        "dataset = pd.read_csv('insurance.csv')\n",
        "dataset.tail()"
      ]
    },
    {
      "cell_type": "code",
      "source": [
        "df = dataset\n",
        "df.head()"
      ],
      "metadata": {
        "id": "76MznaPqEhRU"
      },
      "execution_count": null,
      "outputs": []
    },
    {
      "cell_type": "code",
      "source": [
        "df.isna().sum()\n",
        "df = df.dropna()\n",
        "\n"
      ],
      "metadata": {
        "id": "Tomq6zu-IcMW"
      },
      "execution_count": null,
      "outputs": []
    },
    {
      "cell_type": "code",
      "source": [],
      "metadata": {
        "id": "KTGIH-6fIq-1"
      },
      "execution_count": null,
      "outputs": []
    },
    {
      "source": [
        "# @title region\n",
        "\n",
        "from matplotlib import pyplot as plt\n",
        "import seaborn as sns\n",
        "df.groupby('region').size().plot(kind='barh', color=sns.palettes.mpl_palette('Dark2'))\n",
        "plt.gca().spines[['top', 'right',]].set_visible(False)"
      ],
      "cell_type": "code",
      "execution_count": null,
      "outputs": [],
      "metadata": {
        "cellView": "form",
        "id": "6EauydSrGcV7"
      }
    },
    {
      "cell_type": "code",
      "execution_count": null,
      "metadata": {
        "id": "LcopvQh3X-kX"
      },
      "outputs": [],
      "source": [
        "# convert categorical data to numbers\n",
        "numeric_var = {\"sex\": {\"male\":0, \"female\":1}, \"smoker\":{\"yes\":1,\"no\":0}}\n",
        "df = df.replace(numeric_var)\n",
        "#print(df)\n",
        "\n",
        "# get the dummies and store it in a variable\n",
        "dummies = pd.get_dummies(df.region, dtype=int)\n",
        "\n",
        "# Concatenate the dummies to original dataframe\n",
        "merged = pd.concat([df, dummies], axis='columns')\n",
        "\n",
        "# drop the values 'drop southwest???\n",
        "merged.drop(['region', 'southwest'], axis='columns', inplace=True)\n",
        "\n",
        "print(merged)"
      ]
    },
    {
      "cell_type": "code",
      "source": [
        "# train dataset and test dataset\n",
        "train_dataset = merged.sample(frac=0.8, random_state=0)\n",
        "test_dataset = merged.drop(train_dataset.index)\n"
      ],
      "metadata": {
        "id": "i18f8zvsI1vZ"
      },
      "execution_count": null,
      "outputs": []
    },
    {
      "cell_type": "code",
      "source": [
        "sns.pairplot(train_dataset[['expenses', 'age', 'sex', 'northeast']], diag_kind='kde')\n"
      ],
      "metadata": {
        "id": "W12oeCZsJBAJ"
      },
      "execution_count": null,
      "outputs": []
    },
    {
      "cell_type": "code",
      "source": [
        "train_dataset.describe().transpose()\n"
      ],
      "metadata": {
        "id": "n3XHGpVaJ0HY"
      },
      "execution_count": null,
      "outputs": []
    },
    {
      "cell_type": "code",
      "source": [
        "train_features = train_dataset.copy()\n",
        "test_features = test_dataset.copy()\n",
        "\n",
        "train_labels = train_features.pop('expenses')\n",
        "test_labels = test_features.pop('expenses')\n"
      ],
      "metadata": {
        "id": "YHcoVB3WKzOm"
      },
      "execution_count": null,
      "outputs": []
    },
    {
      "cell_type": "code",
      "source": [
        "print(train_labels)"
      ],
      "metadata": {
        "id": "pxFY1IcsRI81"
      },
      "execution_count": null,
      "outputs": []
    },
    {
      "cell_type": "code",
      "source": [
        "train_dataset.describe().transpose()[['mean', 'std']]\n",
        "normalizer = tf.keras.layers.Normalization(axis=-1)\n",
        "normalizer.adapt(np.array(train_features))\n",
        "print(normalizer.mean.numpy())\n",
        "first = np.array(train_features[:1])\n",
        "\n",
        "with np.printoptions(precision=2, suppress=True):\n",
        "  print('First example:', first)\n",
        "  print()\n",
        "  print('Normalized:', normalizer(first).numpy())\n",
        "\n"
      ],
      "metadata": {
        "id": "AvXk4R9bK8U5"
      },
      "execution_count": null,
      "outputs": []
    },
    {
      "cell_type": "code",
      "source": [
        "print(train_features.columns)"
      ],
      "metadata": {
        "id": "cP7-Am63M8tT"
      },
      "execution_count": null,
      "outputs": []
    },
    {
      "cell_type": "code",
      "source": [
        "# uni variate linear regression\n",
        "age_lin_reg = np.array(train_features['age'])\n",
        "\n",
        "age_lin_reg_normalizer = layers.Normalization(input_shape=[1,], axis=None)\n",
        "age_lin_reg_normalizer.adapt(age_lin_reg)\n",
        "\n",
        "age_model = tf.keras.Sequential([\n",
        "    age_lin_reg_normalizer,\n",
        "    layers.Dense(units=1)\n",
        "])\n",
        "\n",
        "age_model.summary()\n",
        "\n",
        "age_model.predict(age_lin_reg[:10])\n"
      ],
      "metadata": {
        "id": "KUXGRJ6EL4E8"
      },
      "execution_count": null,
      "outputs": []
    },
    {
      "cell_type": "code",
      "source": [
        "age_model.compile(\n",
        "    optimizer=tf.keras.optimizers.Adam(learning_rate=0.1),\n",
        "    loss='mean_absolute_error')"
      ],
      "metadata": {
        "id": "07oIjzw1Oo23"
      },
      "execution_count": null,
      "outputs": []
    },
    {
      "cell_type": "code",
      "source": [
        "%%time\n",
        "history = age_model.fit(\n",
        "    train_features['age'],\n",
        "    train_labels,\n",
        "    epochs=100,\n",
        "    # Suppress logging.\n",
        "    verbose=0,\n",
        "    # Calculate validation results on 20% of the training data.\n",
        "    validation_split = 0.2)\n"
      ],
      "metadata": {
        "id": "faeiyeq8OvwD"
      },
      "execution_count": null,
      "outputs": []
    },
    {
      "cell_type": "code",
      "source": [
        "hist = pd.DataFrame(history.history)\n",
        "hist['epoch'] = history.epoch\n",
        "hist.tail()\n"
      ],
      "metadata": {
        "id": "lb5_utLyO2gA"
      },
      "execution_count": null,
      "outputs": []
    },
    {
      "cell_type": "code",
      "source": [
        "def plot_loss(history):\n",
        "  plt.plot(history.history['loss'], label='loss')\n",
        "  plt.plot(history.history['val_loss'], label='val_loss')\n",
        "\n",
        "  plt.xlabel('Epoch')\n",
        "  plt.ylabel('Error [expenses]')\n",
        "  plt.legend()\n",
        "  plt.grid(True)\n"
      ],
      "metadata": {
        "id": "fuVtGM8iO6v9"
      },
      "execution_count": null,
      "outputs": []
    },
    {
      "cell_type": "code",
      "source": [
        "plot_loss(history)\n"
      ],
      "metadata": {
        "id": "b3OJBT5CPBeE"
      },
      "execution_count": null,
      "outputs": []
    },
    {
      "cell_type": "code",
      "source": [
        "test_results = {}\n",
        "\n",
        "test_results['age_model'] = age_model.evaluate(\n",
        "    test_features['age'],\n",
        "    test_labels, verbose=0)\n"
      ],
      "metadata": {
        "id": "3C5fEFZvPXm7"
      },
      "execution_count": null,
      "outputs": []
    },
    {
      "cell_type": "code",
      "source": [
        "x = tf.linspace(0.0, 100, 101)\n",
        "y = age_model.predict(x)\n"
      ],
      "metadata": {
        "id": "oXi2SFBRPdon"
      },
      "execution_count": null,
      "outputs": []
    },
    {
      "cell_type": "code",
      "source": [
        "def plot_age(x, y):\n",
        "  plt.scatter(train_features['age'], train_labels, label='Data')\n",
        "  plt.plot(x, y, color='k', label='Predictions')\n",
        "  plt.xlabel('age')\n",
        "  plt.ylabel('expenses')\n",
        "  plt.legend()\n"
      ],
      "metadata": {
        "id": "Xuc1Kl63PmP_"
      },
      "execution_count": null,
      "outputs": []
    },
    {
      "cell_type": "code",
      "source": [
        "plot_age(x, y)\n"
      ],
      "metadata": {
        "id": "jGkVOyLUPrj8"
      },
      "execution_count": null,
      "outputs": []
    },
    {
      "cell_type": "code",
      "source": [
        "print(train_features['age'])"
      ],
      "metadata": {
        "id": "I0PxpYBUR5K7"
      },
      "execution_count": null,
      "outputs": []
    },
    {
      "cell_type": "code",
      "source": [
        "#sk univariate linear regression\n",
        "reg = LinearRegression().fit(train_features[['age']],train_labels)"
      ],
      "metadata": {
        "id": "wQ1c0jkcQ-Au"
      },
      "execution_count": null,
      "outputs": []
    },
    {
      "cell_type": "code",
      "source": [
        "Y=reg.predict(x.numpy().reshape(-1, 1))"
      ],
      "metadata": {
        "id": "aPwBe2phRmz4"
      },
      "execution_count": null,
      "outputs": []
    },
    {
      "cell_type": "code",
      "source": [
        "plot_age(x,Y)"
      ],
      "metadata": {
        "id": "2V4XhoE_Umn2"
      },
      "execution_count": null,
      "outputs": []
    },
    {
      "cell_type": "code",
      "source": [
        "#sk multivariate linear regression\n",
        "multi_reg = LinearRegression().fit(train_features,train_labels)"
      ],
      "metadata": {
        "id": "ys6mgh2BU7i-"
      },
      "execution_count": null,
      "outputs": []
    },
    {
      "cell_type": "code",
      "source": [
        "# keras multivariate linear regression\n",
        "linear_model = tf.keras.Sequential([\n",
        "    normalizer,\n",
        "    layers.Dense(units=1)\n",
        "])\n",
        "linear_model.predict(train_features[:10])\n"
      ],
      "metadata": {
        "id": "d8vl73P2U__s"
      },
      "execution_count": null,
      "outputs": []
    },
    {
      "cell_type": "code",
      "source": [
        "linear_model.layers[1].kernel"
      ],
      "metadata": {
        "id": "bW2NqEB3VpFO"
      },
      "execution_count": null,
      "outputs": []
    },
    {
      "cell_type": "code",
      "source": [
        "linear_model.compile(\n",
        "    optimizer=tf.keras.optimizers.Adam(learning_rate=0.1),\n",
        "    loss='mean_absolute_error')\n"
      ],
      "metadata": {
        "id": "8mM1bkssVqGo"
      },
      "execution_count": null,
      "outputs": []
    },
    {
      "cell_type": "code",
      "source": [
        "%%time\n",
        "history = linear_model.fit(\n",
        "    train_features,\n",
        "    train_labels,\n",
        "    epochs=100,\n",
        "    # Suppress logging.\n",
        "    verbose=0,\n",
        "    # Calculate validation results on 20% of the training data.\n",
        "    validation_split = 0.2)\n"
      ],
      "metadata": {
        "id": "QfaOD1oFVvX_"
      },
      "execution_count": null,
      "outputs": []
    },
    {
      "cell_type": "code",
      "source": [
        "plot_loss(history)\n"
      ],
      "metadata": {
        "id": "SHfgXjzxVy3u"
      },
      "execution_count": null,
      "outputs": []
    },
    {
      "cell_type": "code",
      "source": [
        "test_results['linear_model'] = linear_model.evaluate(\n",
        "    test_features, test_labels, verbose=0)\n"
      ],
      "metadata": {
        "id": "CTshvCNYV3hL"
      },
      "execution_count": null,
      "outputs": []
    },
    {
      "cell_type": "code",
      "source": [
        "# NN\n",
        "def build_and_compile_model(norm):\n",
        "  model = keras.Sequential([\n",
        "      norm,\n",
        "      layers.Dense(64, activation='relu'),\n",
        "      layers.Dense(64, activation='relu'),\n",
        "      layers.Dense(1)\n",
        "  ])\n",
        "\n",
        "  model.compile(loss='mean_absolute_error',metrics=['mae', 'mse'],\n",
        "                optimizer=tf.keras.optimizers.Adam(0.001))\n",
        "\n",
        "  return model"
      ],
      "metadata": {
        "id": "aAtXOwivV7Yo"
      },
      "execution_count": null,
      "outputs": []
    },
    {
      "cell_type": "code",
      "source": [
        "dnn_age_model = build_and_compile_model(age_lin_reg_normalizer)\n"
      ],
      "metadata": {
        "id": "lvzlCnL-WD3m"
      },
      "execution_count": null,
      "outputs": []
    },
    {
      "cell_type": "code",
      "source": [
        "dnn_age_model.summary()\n"
      ],
      "metadata": {
        "id": "Fv-pCpQvWP-s"
      },
      "execution_count": null,
      "outputs": []
    },
    {
      "cell_type": "code",
      "source": [
        "%%time\n",
        "history = dnn_age_model.fit(\n",
        "    train_features['age'],\n",
        "    train_labels,\n",
        "    validation_split=0.2,\n",
        "    verbose=0, epochs=100)\n"
      ],
      "metadata": {
        "id": "2Epz2lQKWUxL"
      },
      "execution_count": null,
      "outputs": []
    },
    {
      "cell_type": "code",
      "source": [
        "plot_loss(history)\n",
        "\n",
        "y = dnn_age_model.predict(x)\n",
        "\n"
      ],
      "metadata": {
        "id": "Kftwo4B0WaXj"
      },
      "execution_count": null,
      "outputs": []
    },
    {
      "cell_type": "code",
      "source": [
        "plot_age(x, y)"
      ],
      "metadata": {
        "id": "O4-zD854WjIY"
      },
      "execution_count": null,
      "outputs": []
    },
    {
      "cell_type": "code",
      "source": [
        "test_results['dnn_age_model'] = dnn_age_model.evaluate(\n",
        "    test_features['age'], test_labels,\n",
        "    verbose=0)\n"
      ],
      "metadata": {
        "id": "TNgzCYW2WqAb"
      },
      "execution_count": null,
      "outputs": []
    },
    {
      "cell_type": "code",
      "source": [
        "dnn_model = build_and_compile_model(normalizer)\n",
        "dnn_model.summary()\n"
      ],
      "metadata": {
        "id": "ndcwlYMmWwMi"
      },
      "execution_count": null,
      "outputs": []
    },
    {
      "cell_type": "code",
      "source": [
        "%%time\n",
        "history = dnn_model.fit(\n",
        "    train_features,\n",
        "    train_labels,\n",
        "    validation_split=0.2,\n",
        "    verbose=0, epochs=100)\n"
      ],
      "metadata": {
        "id": "6HrLmxR3WzoK"
      },
      "execution_count": null,
      "outputs": []
    },
    {
      "cell_type": "code",
      "source": [
        "plot_loss(history)\n"
      ],
      "metadata": {
        "id": "G35S2Qi1W1Vk"
      },
      "execution_count": null,
      "outputs": []
    },
    {
      "cell_type": "code",
      "source": [
        "test_results['dnn_model'] = dnn_model.evaluate(test_features, test_labels, verbose=0)\n"
      ],
      "metadata": {
        "id": "yPdkJR3iW5VV"
      },
      "execution_count": null,
      "outputs": []
    },
    {
      "cell_type": "code",
      "source": [
        "pd.DataFrame(test_results, index=['Mean absolute error [expenses]']).T"
      ],
      "metadata": {
        "id": "pJVwDAdbW_Zb"
      },
      "execution_count": null,
      "outputs": []
    },
    {
      "cell_type": "code",
      "source": [
        "test_predictions = dnn_model.predict(test_features).flatten()\n",
        "\n",
        "a = plt.axes(aspect='equal')\n",
        "plt.scatter(test_labels, test_predictions)\n",
        "plt.xlabel('True Values [expenses]')\n",
        "plt.ylabel('Predictions [expenses]')\n",
        "lims = [0, 70000]\n",
        "plt.xlim(lims)\n",
        "plt.ylim(lims)\n",
        "_ = plt.plot(lims, lims)\n"
      ],
      "metadata": {
        "id": "mKwlcwJdXHHY"
      },
      "execution_count": null,
      "outputs": []
    },
    {
      "cell_type": "code",
      "source": [
        "error = test_predictions - test_labels\n",
        "plt.hist(error, bins=25)\n",
        "plt.xlabel('Prediction Error [expenses]')\n",
        "_ = plt.ylabel('Count')\n"
      ],
      "metadata": {
        "id": "jpwqDWbaXZ6M"
      },
      "execution_count": null,
      "outputs": []
    },
    {
      "cell_type": "code",
      "source": [
        "# reload\n",
        "dnn_model.save('dnn_model.keras')\n",
        "#reloaded = tf.keras.models.load_model('dnn_model.keras')\n",
        "\n",
        "#test_results['reloaded'] = reloaded.evaluate(\n",
        "#    test_features, test_labels, verbose=0)\n",
        "#pd.DataFrame(test_results, index=['Mean absolute error [expenses]']).T"
      ],
      "metadata": {
        "id": "NR5ioj8QXe2j"
      },
      "execution_count": null,
      "outputs": []
    },
    {
      "cell_type": "code",
      "source": [
        "model = dnn_model"
      ],
      "metadata": {
        "id": "KLEPRGStXv1p"
      },
      "execution_count": null,
      "outputs": []
    },
    {
      "cell_type": "code",
      "source": [
        "test_features.head()"
      ],
      "metadata": {
        "id": "_CkV4uIMZQUX"
      },
      "execution_count": null,
      "outputs": []
    },
    {
      "cell_type": "code",
      "source": [
        "test_dataset.head()"
      ],
      "metadata": {
        "id": "5PehQr4hZTGZ"
      },
      "execution_count": null,
      "outputs": []
    },
    {
      "cell_type": "code",
      "source": [
        "loss, mae, mse = dnn_model.evaluate(train_features, train_labels)"
      ],
      "metadata": {
        "id": "iWJOeYvgX7Xl"
      },
      "execution_count": null,
      "outputs": []
    },
    {
      "cell_type": "code",
      "source": [
        "print(mae)"
      ],
      "metadata": {
        "id": "NIGq0WSKaJBI"
      },
      "execution_count": null,
      "outputs": []
    },
    {
      "cell_type": "code",
      "source": [
        "loss, mae, mse = dnn_model.evaluate(test_features, test_labels)"
      ],
      "metadata": {
        "id": "7hu0w1GWZzCZ"
      },
      "execution_count": null,
      "outputs": []
    },
    {
      "cell_type": "code",
      "source": [
        "loss, mae, mse = dnn_model.evaluate(test_features, test_labels)"
      ],
      "metadata": {
        "id": "SLhErdWabA_S"
      },
      "execution_count": null,
      "outputs": []
    },
    {
      "cell_type": "code",
      "execution_count": null,
      "metadata": {
        "id": "Xe7RXH3N3CWU"
      },
      "outputs": [],
      "source": [
        "# RUN THIS CELL TO TEST YOUR MODEL. DO NOT MODIFY CONTENTS.\n",
        "# Test model by checking how well the model generalizes using the test set.\n",
        "loss, mae, mse = model.evaluate(test_features, test_labels, verbose=2)\n",
        "\n",
        "print(\"Testing set Mean Abs Error: {:5.2f} expenses\".format(mae))\n",
        "\n",
        "if mae < 3500:\n",
        "  print(\"You passed the challenge. Great job!\")\n",
        "else:\n",
        "  print(\"The Mean Abs Error must be less than 3500. Keep trying.\")\n",
        "\n",
        "# Plot predictions.\n",
        "test_predictions = model.predict(test_features).flatten()\n",
        "\n",
        "a = plt.axes(aspect='equal')\n",
        "plt.scatter(test_labels, test_predictions)\n",
        "plt.xlabel('True values (expenses)')\n",
        "plt.ylabel('Predictions (expenses)')\n",
        "lims = [0, 50000]\n",
        "plt.xlim(lims)\n",
        "plt.ylim(lims)\n",
        "_ = plt.plot(lims,lims)\n"
      ]
    }
  ],
  "metadata": {
    "colab": {
      "name": "fcc_predict_health_costs_with_regression.ipynb",
      "private_outputs": true,
      "provenance": [],
      "toc_visible": true
    },
    "kernelspec": {
      "display_name": "Python 3",
      "name": "python3"
    }
  },
  "nbformat": 4,
  "nbformat_minor": 0
}